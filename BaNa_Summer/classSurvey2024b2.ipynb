{
 "cells": [
  {
   "cell_type": "code",
   "execution_count": 1,
   "id": "21ceb80b",
   "metadata": {},
   "outputs": [
    {
     "name": "stderr",
     "output_type": "stream",
     "text": [
      "C:\\Users\\dillo\\AppData\\Local\\Temp\\ipykernel_24328\\3944179264.py:6: FutureWarning: use_inf_as_na option is deprecated and will be removed in a future version. Convert inf values to NaN before operating instead.\n",
      "  pd.reset_option('all')\n"
     ]
    }
   ],
   "source": [
    "import pandas as pd\n",
    "import numpy as np\n",
    "import seaborn as sns\n",
    "from matplotlib import pyplot as plt\n",
    "from sklearn import cluster\n",
    "pd.reset_option('all')\n",
    "surveyData = pd.read_csv('classSurvey2024b2.csv')"
   ]
  },
  {
   "cell_type": "code",
   "execution_count": 2,
   "id": "a0ab6fbd",
   "metadata": {},
   "outputs": [
    {
     "name": "stdout",
     "output_type": "stream",
     "text": [
      "Here is the basic information: \n",
      " (107, 7)\n",
      "<class 'pandas.core.frame.DataFrame'>\n",
      "RangeIndex: 107 entries, 0 to 106\n",
      "Data columns (total 7 columns):\n",
      " #   Column   Non-Null Count  Dtype \n",
      "---  ------   --------------  ----- \n",
      " 0   Name     107 non-null    object\n",
      " 1   eMail    107 non-null    object\n",
      " 2   Major    106 non-null    object\n",
      " 3   Excel    107 non-null    int64 \n",
      " 4   Oral     107 non-null    int64 \n",
      " 5   Written  107 non-null    int64 \n",
      " 6   Stats    107 non-null    int64 \n",
      "dtypes: int64(4), object(3)\n",
      "memory usage: 6.0+ KB\n"
     ]
    },
    {
     "data": {
      "text/html": [
       "<div>\n",
       "<style scoped>\n",
       "    .dataframe tbody tr th:only-of-type {\n",
       "        vertical-align: middle;\n",
       "    }\n",
       "\n",
       "    .dataframe tbody tr th {\n",
       "        vertical-align: top;\n",
       "    }\n",
       "\n",
       "    .dataframe thead th {\n",
       "        text-align: right;\n",
       "    }\n",
       "</style>\n",
       "<table border=\"1\" class=\"dataframe\">\n",
       "  <thead>\n",
       "    <tr style=\"text-align: right;\">\n",
       "      <th></th>\n",
       "      <th>Excel</th>\n",
       "      <th>Oral</th>\n",
       "      <th>Written</th>\n",
       "      <th>Stats</th>\n",
       "    </tr>\n",
       "  </thead>\n",
       "  <tbody>\n",
       "    <tr>\n",
       "      <th>count</th>\n",
       "      <td>107.000000</td>\n",
       "      <td>107.000000</td>\n",
       "      <td>107.000000</td>\n",
       "      <td>107.000000</td>\n",
       "    </tr>\n",
       "    <tr>\n",
       "      <th>mean</th>\n",
       "      <td>3.364486</td>\n",
       "      <td>3.943925</td>\n",
       "      <td>4.065421</td>\n",
       "      <td>2.794393</td>\n",
       "    </tr>\n",
       "    <tr>\n",
       "      <th>std</th>\n",
       "      <td>0.828644</td>\n",
       "      <td>0.877731</td>\n",
       "      <td>0.780312</td>\n",
       "      <td>0.723439</td>\n",
       "    </tr>\n",
       "    <tr>\n",
       "      <th>min</th>\n",
       "      <td>1.000000</td>\n",
       "      <td>1.000000</td>\n",
       "      <td>2.000000</td>\n",
       "      <td>1.000000</td>\n",
       "    </tr>\n",
       "    <tr>\n",
       "      <th>25%</th>\n",
       "      <td>3.000000</td>\n",
       "      <td>3.000000</td>\n",
       "      <td>4.000000</td>\n",
       "      <td>2.000000</td>\n",
       "    </tr>\n",
       "    <tr>\n",
       "      <th>50%</th>\n",
       "      <td>3.000000</td>\n",
       "      <td>4.000000</td>\n",
       "      <td>4.000000</td>\n",
       "      <td>3.000000</td>\n",
       "    </tr>\n",
       "    <tr>\n",
       "      <th>75%</th>\n",
       "      <td>4.000000</td>\n",
       "      <td>5.000000</td>\n",
       "      <td>5.000000</td>\n",
       "      <td>3.000000</td>\n",
       "    </tr>\n",
       "    <tr>\n",
       "      <th>max</th>\n",
       "      <td>5.000000</td>\n",
       "      <td>5.000000</td>\n",
       "      <td>5.000000</td>\n",
       "      <td>4.000000</td>\n",
       "    </tr>\n",
       "  </tbody>\n",
       "</table>\n",
       "</div>"
      ],
      "text/plain": [
       "            Excel        Oral     Written       Stats\n",
       "count  107.000000  107.000000  107.000000  107.000000\n",
       "mean     3.364486    3.943925    4.065421    2.794393\n",
       "std      0.828644    0.877731    0.780312    0.723439\n",
       "min      1.000000    1.000000    2.000000    1.000000\n",
       "25%      3.000000    3.000000    4.000000    2.000000\n",
       "50%      3.000000    4.000000    4.000000    3.000000\n",
       "75%      4.000000    5.000000    5.000000    3.000000\n",
       "max      5.000000    5.000000    5.000000    4.000000"
      ]
     },
     "execution_count": 2,
     "metadata": {},
     "output_type": "execute_result"
    }
   ],
   "source": [
    "print('Here is the basic information: \\n', surveyData.shape)\n",
    "surveyData.info()\n",
    "surveyData.describe()"
   ]
  },
  {
   "cell_type": "code",
   "execution_count": 3,
   "id": "c6abcdff",
   "metadata": {},
   "outputs": [
    {
     "data": {
      "text/html": [
       "<div>\n",
       "<style scoped>\n",
       "    .dataframe tbody tr th:only-of-type {\n",
       "        vertical-align: middle;\n",
       "    }\n",
       "\n",
       "    .dataframe tbody tr th {\n",
       "        vertical-align: top;\n",
       "    }\n",
       "\n",
       "    .dataframe thead th {\n",
       "        text-align: right;\n",
       "    }\n",
       "</style>\n",
       "<table border=\"1\" class=\"dataframe\">\n",
       "  <thead>\n",
       "    <tr style=\"text-align: right;\">\n",
       "      <th></th>\n",
       "      <th>Name</th>\n",
       "      <th>eMail</th>\n",
       "      <th>Major</th>\n",
       "      <th>Excel</th>\n",
       "      <th>Oral</th>\n",
       "      <th>Written</th>\n",
       "      <th>Stats</th>\n",
       "    </tr>\n",
       "  </thead>\n",
       "  <tbody>\n",
       "    <tr>\n",
       "      <th>0</th>\n",
       "      <td>Brittany Curtis</td>\n",
       "      <td>Britcurtis@me.com</td>\n",
       "      <td>Management</td>\n",
       "      <td>1</td>\n",
       "      <td>4</td>\n",
       "      <td>4</td>\n",
       "      <td>1</td>\n",
       "    </tr>\n",
       "    <tr>\n",
       "      <th>1</th>\n",
       "      <td>Hailey Burke</td>\n",
       "      <td>hailey.burke@smail.astate.edu</td>\n",
       "      <td>Accounting</td>\n",
       "      <td>4</td>\n",
       "      <td>4</td>\n",
       "      <td>4</td>\n",
       "      <td>2</td>\n",
       "    </tr>\n",
       "    <tr>\n",
       "      <th>2</th>\n",
       "      <td>Lucie Lair</td>\n",
       "      <td>lucie.lair@smail.astate.edu</td>\n",
       "      <td>Marketing</td>\n",
       "      <td>3</td>\n",
       "      <td>5</td>\n",
       "      <td>4</td>\n",
       "      <td>3</td>\n",
       "    </tr>\n",
       "    <tr>\n",
       "      <th>3</th>\n",
       "      <td>Luke Dibble</td>\n",
       "      <td>luke.dibble@smail.astate.edu</td>\n",
       "      <td>Management</td>\n",
       "      <td>4</td>\n",
       "      <td>4</td>\n",
       "      <td>5</td>\n",
       "      <td>3</td>\n",
       "    </tr>\n",
       "    <tr>\n",
       "      <th>4</th>\n",
       "      <td>Cecilia Tacker</td>\n",
       "      <td>cecilia.tacker@smail.astate.edu</td>\n",
       "      <td>Accounting</td>\n",
       "      <td>4</td>\n",
       "      <td>4</td>\n",
       "      <td>5</td>\n",
       "      <td>3</td>\n",
       "    </tr>\n",
       "  </tbody>\n",
       "</table>\n",
       "</div>"
      ],
      "text/plain": [
       "              Name                            eMail       Major  Excel  Oral  \\\n",
       "0  Brittany Curtis                Britcurtis@me.com  Management      1     4   \n",
       "1     Hailey Burke    hailey.burke@smail.astate.edu  Accounting      4     4   \n",
       "2       Lucie Lair      lucie.lair@smail.astate.edu   Marketing      3     5   \n",
       "3      Luke Dibble     luke.dibble@smail.astate.edu  Management      4     4   \n",
       "4   Cecilia Tacker  cecilia.tacker@smail.astate.edu  Accounting      4     4   \n",
       "\n",
       "   Written  Stats  \n",
       "0        4      1  \n",
       "1        4      2  \n",
       "2        4      3  \n",
       "3        5      3  \n",
       "4        5      3  "
      ]
     },
     "execution_count": 3,
     "metadata": {},
     "output_type": "execute_result"
    }
   ],
   "source": [
    "surveyData.head()"
   ]
  },
  {
   "cell_type": "code",
   "execution_count": 4,
   "id": "d373cb9a",
   "metadata": {},
   "outputs": [
    {
     "data": {
      "text/html": [
       "<div>\n",
       "<style scoped>\n",
       "    .dataframe tbody tr th:only-of-type {\n",
       "        vertical-align: middle;\n",
       "    }\n",
       "\n",
       "    .dataframe tbody tr th {\n",
       "        vertical-align: top;\n",
       "    }\n",
       "\n",
       "    .dataframe thead th {\n",
       "        text-align: right;\n",
       "    }\n",
       "</style>\n",
       "<table border=\"1\" class=\"dataframe\">\n",
       "  <thead>\n",
       "    <tr style=\"text-align: right;\">\n",
       "      <th></th>\n",
       "      <th>Name</th>\n",
       "      <th>eMail</th>\n",
       "      <th>Major</th>\n",
       "      <th>Excel</th>\n",
       "      <th>Oral</th>\n",
       "      <th>Written</th>\n",
       "      <th>Stats</th>\n",
       "    </tr>\n",
       "  </thead>\n",
       "  <tbody>\n",
       "    <tr>\n",
       "      <th>102</th>\n",
       "      <td>Brooklyn Ramsey</td>\n",
       "      <td>brooklyn.ramsey@smail.astate.edu</td>\n",
       "      <td>Finance</td>\n",
       "      <td>2</td>\n",
       "      <td>2</td>\n",
       "      <td>2</td>\n",
       "      <td>2</td>\n",
       "    </tr>\n",
       "    <tr>\n",
       "      <th>103</th>\n",
       "      <td>Abigail Sanchez</td>\n",
       "      <td>abigail.sanchez@smail.astate.edu</td>\n",
       "      <td>Finance</td>\n",
       "      <td>3</td>\n",
       "      <td>4</td>\n",
       "      <td>3</td>\n",
       "      <td>4</td>\n",
       "    </tr>\n",
       "    <tr>\n",
       "      <th>104</th>\n",
       "      <td>Jay Gregory</td>\n",
       "      <td>jaylen.gregory@smail.astate.edu</td>\n",
       "      <td>Finance</td>\n",
       "      <td>2</td>\n",
       "      <td>4</td>\n",
       "      <td>4</td>\n",
       "      <td>4</td>\n",
       "    </tr>\n",
       "    <tr>\n",
       "      <th>105</th>\n",
       "      <td>Robert Carter</td>\n",
       "      <td>robertbrickcarter@gmail.com</td>\n",
       "      <td>Management</td>\n",
       "      <td>3</td>\n",
       "      <td>5</td>\n",
       "      <td>5</td>\n",
       "      <td>2</td>\n",
       "    </tr>\n",
       "    <tr>\n",
       "      <th>106</th>\n",
       "      <td>Stacy Chappell</td>\n",
       "      <td>stacy.chappell@smail.astate.edu</td>\n",
       "      <td>Management</td>\n",
       "      <td>3</td>\n",
       "      <td>3</td>\n",
       "      <td>4</td>\n",
       "      <td>3</td>\n",
       "    </tr>\n",
       "  </tbody>\n",
       "</table>\n",
       "</div>"
      ],
      "text/plain": [
       "                Name                             eMail       Major  Excel  \\\n",
       "102  Brooklyn Ramsey  brooklyn.ramsey@smail.astate.edu     Finance      2   \n",
       "103  Abigail Sanchez  abigail.sanchez@smail.astate.edu     Finance      3   \n",
       "104      Jay Gregory   jaylen.gregory@smail.astate.edu     Finance      2   \n",
       "105    Robert Carter       robertbrickcarter@gmail.com  Management      3   \n",
       "106   Stacy Chappell   stacy.chappell@smail.astate.edu  Management      3   \n",
       "\n",
       "     Oral  Written  Stats  \n",
       "102     2        2      2  \n",
       "103     4        3      4  \n",
       "104     4        4      4  \n",
       "105     5        5      2  \n",
       "106     3        4      3  "
      ]
     },
     "execution_count": 4,
     "metadata": {},
     "output_type": "execute_result"
    }
   ],
   "source": [
    "surveyData.tail()"
   ]
  },
  {
   "cell_type": "code",
   "execution_count": 5,
   "id": "4f3c1f98",
   "metadata": {},
   "outputs": [
    {
     "data": {
      "text/plain": [
       "Excel\n",
       "4    45\n",
       "3    44\n",
       "2    10\n",
       "5     5\n",
       "1     3\n",
       "Name: count, dtype: int64"
      ]
     },
     "execution_count": 5,
     "metadata": {},
     "output_type": "execute_result"
    }
   ],
   "source": [
    "surveyData['Excel'].value_counts()"
   ]
  },
  {
   "cell_type": "code",
   "execution_count": 6,
   "id": "b06ce227",
   "metadata": {},
   "outputs": [
    {
     "name": "stdout",
     "output_type": "stream",
     "text": [
      "Average for Excel skills is 3.364485981308411\n",
      "Median for Excel skills is 3.0\n"
     ]
    }
   ],
   "source": [
    "print('Average for Excel skills is '+str(surveyData['Excel'].mean()))\n",
    "print('Median for Excel skills is '+str(surveyData['Excel'].median()))"
   ]
  },
  {
   "cell_type": "code",
   "execution_count": 7,
   "id": "7c5d1586",
   "metadata": {},
   "outputs": [
    {
     "data": {
      "image/png": "[encoded data removed]",
      "text/plain": [
       "<Figure size 640x480 with 1 Axes>"
      ]
     },
     "metadata": {},
     "output_type": "display_data"
    }
   ],
   "source": [
    "ax = sns.countplot(x='Excel', data=surveyData)\n",
    "sns.set(palette='colorblind', style='ticks',font_scale=1.2)"
   ]
  },
  {
   "cell_type": "code",
   "execution_count": 8,
   "id": "a4e281aa",
   "metadata": {},
   "outputs": [
    {
     "name": "stderr",
     "output_type": "stream",
     "text": [
      "C:\\Users\\dillo\\AppData\\Local\\Temp\\ipykernel_24328\\482070552.py:1: UserWarning: \n",
      "\n",
      "`distplot` is a deprecated function and will be removed in seaborn v0.14.0.\n",
      "\n",
      "Please adapt your code to use either `displot` (a figure-level function with\n",
      "similar flexibility) or `histplot` (an axes-level function for histograms).\n",
      "\n",
      "For a guide to updating your code to use the new functions, please see\n",
      "https://gist.github.com/mwaskom/de44147ed2974457ad6372750bbe5751\n",
      "\n",
      "  ax = sns.distplot(surveyData['Excel'])\n",
      "C:\\Users\\dillo\\anaconda3\\Lib\\site-packages\\seaborn\\_oldcore.py:1119: FutureWarning: use_inf_as_na option is deprecated and will be removed in a future version. Convert inf values to NaN before operating instead.\n",
      "  with pd.option_context('mode.use_inf_as_na', True):\n"
     ]
    },
    {
     "data": {
      "image/png": "[encoded data removed]",
      "text/plain": [
       "<Figure size 640x480 with 1 Axes>"
      ]
     },
     "metadata": {},
     "output_type": "display_data"
    }
   ],
   "source": [
    "ax = sns.distplot(surveyData['Excel'])"
   ]
  },
  {
   "cell_type": "code",
   "execution_count": 9,
   "id": "b5717548",
   "metadata": {},
   "outputs": [
    {
     "name": "stderr",
     "output_type": "stream",
     "text": [
      "C:\\Users\\dillo\\anaconda3\\Lib\\site-packages\\seaborn\\_oldcore.py:1119: FutureWarning: use_inf_as_na option is deprecated and will be removed in a future version. Convert inf values to NaN before operating instead.\n",
      "  with pd.option_context('mode.use_inf_as_na', True):\n"
     ]
    },
    {
     "data": {
      "image/png": "[encoded data removed]",
      "text/plain": [
       "<Figure size 640x480 with 1 Axes>"
      ]
     },
     "metadata": {},
     "output_type": "display_data"
    }
   ],
   "source": [
    "ax = sns.histplot(surveyData['Excel'])"
   ]
  },
  {
   "cell_type": "code",
   "execution_count": 10,
   "id": "526dd7a7",
   "metadata": {},
   "outputs": [
    {
     "data": {
      "text/html": [
       "<div>\n",
       "<style scoped>\n",
       "    .dataframe tbody tr th:only-of-type {\n",
       "        vertical-align: middle;\n",
       "    }\n",
       "\n",
       "    .dataframe tbody tr th {\n",
       "        vertical-align: top;\n",
       "    }\n",
       "\n",
       "    .dataframe thead th {\n",
       "        text-align: right;\n",
       "    }\n",
       "</style>\n",
       "<table border=\"1\" class=\"dataframe\">\n",
       "  <thead>\n",
       "    <tr style=\"text-align: right;\">\n",
       "      <th></th>\n",
       "      <th>Name</th>\n",
       "      <th>eMail</th>\n",
       "      <th>Major</th>\n",
       "      <th>Excel</th>\n",
       "      <th>Oral</th>\n",
       "      <th>Written</th>\n",
       "      <th>Stats</th>\n",
       "      <th>verbalSkills</th>\n",
       "      <th>quantSkills</th>\n",
       "    </tr>\n",
       "  </thead>\n",
       "  <tbody>\n",
       "    <tr>\n",
       "      <th>0</th>\n",
       "      <td>Brittany Curtis</td>\n",
       "      <td>Britcurtis@me.com</td>\n",
       "      <td>Management</td>\n",
       "      <td>1</td>\n",
       "      <td>4</td>\n",
       "      <td>4</td>\n",
       "      <td>1</td>\n",
       "      <td>80</td>\n",
       "      <td>20</td>\n",
       "    </tr>\n",
       "    <tr>\n",
       "      <th>1</th>\n",
       "      <td>Hailey Burke</td>\n",
       "      <td>hailey.burke@smail.astate.edu</td>\n",
       "      <td>Accounting</td>\n",
       "      <td>4</td>\n",
       "      <td>4</td>\n",
       "      <td>4</td>\n",
       "      <td>2</td>\n",
       "      <td>80</td>\n",
       "      <td>60</td>\n",
       "    </tr>\n",
       "    <tr>\n",
       "      <th>2</th>\n",
       "      <td>Lucie Lair</td>\n",
       "      <td>lucie.lair@smail.astate.edu</td>\n",
       "      <td>Marketing</td>\n",
       "      <td>3</td>\n",
       "      <td>5</td>\n",
       "      <td>4</td>\n",
       "      <td>3</td>\n",
       "      <td>90</td>\n",
       "      <td>60</td>\n",
       "    </tr>\n",
       "    <tr>\n",
       "      <th>3</th>\n",
       "      <td>Luke Dibble</td>\n",
       "      <td>luke.dibble@smail.astate.edu</td>\n",
       "      <td>Management</td>\n",
       "      <td>4</td>\n",
       "      <td>4</td>\n",
       "      <td>5</td>\n",
       "      <td>3</td>\n",
       "      <td>90</td>\n",
       "      <td>70</td>\n",
       "    </tr>\n",
       "    <tr>\n",
       "      <th>4</th>\n",
       "      <td>Cecilia Tacker</td>\n",
       "      <td>cecilia.tacker@smail.astate.edu</td>\n",
       "      <td>Accounting</td>\n",
       "      <td>4</td>\n",
       "      <td>4</td>\n",
       "      <td>5</td>\n",
       "      <td>3</td>\n",
       "      <td>90</td>\n",
       "      <td>70</td>\n",
       "    </tr>\n",
       "  </tbody>\n",
       "</table>\n",
       "</div>"
      ],
      "text/plain": [
       "              Name                            eMail       Major  Excel  Oral  \\\n",
       "0  Brittany Curtis                Britcurtis@me.com  Management      1     4   \n",
       "1     Hailey Burke    hailey.burke@smail.astate.edu  Accounting      4     4   \n",
       "2       Lucie Lair      lucie.lair@smail.astate.edu   Marketing      3     5   \n",
       "3      Luke Dibble     luke.dibble@smail.astate.edu  Management      4     4   \n",
       "4   Cecilia Tacker  cecilia.tacker@smail.astate.edu  Accounting      4     4   \n",
       "\n",
       "   Written  Stats  verbalSkills  quantSkills  \n",
       "0        4      1            80           20  \n",
       "1        4      2            80           60  \n",
       "2        4      3            90           60  \n",
       "3        5      3            90           70  \n",
       "4        5      3            90           70  "
      ]
     },
     "execution_count": 10,
     "metadata": {},
     "output_type": "execute_result"
    }
   ],
   "source": [
    "surveyData['verbalSkills'] = (surveyData['Oral'] + surveyData['Written']) * 10\n",
    "surveyData['quantSkills'] = (surveyData['Excel'] + surveyData['Stats']) * 10\n",
    "surveyData.head()"
   ]
  },
  {
   "cell_type": "code",
   "execution_count": 11,
   "id": "59124f81",
   "metadata": {},
   "outputs": [
    {
     "name": "stdout",
     "output_type": "stream",
     "text": [
      "<class 'pandas.core.frame.DataFrame'>\n",
      "RangeIndex: 107 entries, 0 to 106\n",
      "Data columns (total 2 columns):\n",
      " #   Column        Non-Null Count  Dtype\n",
      "---  ------        --------------  -----\n",
      " 0   quantSkills   107 non-null    int64\n",
      " 1   verbalSkills  107 non-null    int64\n",
      "dtypes: int64(2)\n",
      "memory usage: 1.8 KB\n"
     ]
    }
   ],
   "source": [
    "lstData0 = surveyData['quantSkills']\n",
    "lstData1 = surveyData['verbalSkills']\n",
    "newData = pd.DataFrame(lstData0)\n",
    "newData = newData.join(lstData1)\n",
    "newData.info()"
   ]
  },
  {
   "cell_type": "code",
   "execution_count": 12,
   "id": "54cc5d19",
   "metadata": {},
   "outputs": [
    {
     "name": "stdout",
     "output_type": "stream",
     "text": [
      "     quantSkills  verbalSkills\n",
      "0             20            80\n",
      "1             60            80\n",
      "2             60            90\n",
      "3             70            90\n",
      "4             70            90\n",
      "..           ...           ...\n",
      "102           40            40\n",
      "103           70            70\n",
      "104           60            80\n",
      "105           50           100\n",
      "106           60            70\n",
      "\n",
      "[107 rows x 2 columns]\n"
     ]
    }
   ],
   "source": [
    "print(newData)"
   ]
  },
  {
   "cell_type": "code",
   "execution_count": 13,
   "id": "4365d07a",
   "metadata": {},
   "outputs": [
    {
     "data": {
      "text/html": [
       "<div>\n",
       "<style scoped>\n",
       "    .dataframe tbody tr th:only-of-type {\n",
       "        vertical-align: middle;\n",
       "    }\n",
       "\n",
       "    .dataframe tbody tr th {\n",
       "        vertical-align: top;\n",
       "    }\n",
       "\n",
       "    .dataframe thead th {\n",
       "        text-align: right;\n",
       "    }\n",
       "</style>\n",
       "<table border=\"1\" class=\"dataframe\">\n",
       "  <thead>\n",
       "    <tr style=\"text-align: right;\">\n",
       "      <th></th>\n",
       "      <th>quantSkills</th>\n",
       "      <th>verbalSkills</th>\n",
       "    </tr>\n",
       "  </thead>\n",
       "  <tbody>\n",
       "    <tr>\n",
       "      <th>count</th>\n",
       "      <td>107.000000</td>\n",
       "      <td>107.000000</td>\n",
       "    </tr>\n",
       "    <tr>\n",
       "      <th>mean</th>\n",
       "      <td>61.588785</td>\n",
       "      <td>80.093458</td>\n",
       "    </tr>\n",
       "    <tr>\n",
       "      <th>std</th>\n",
       "      <td>12.896506</td>\n",
       "      <td>13.701351</td>\n",
       "    </tr>\n",
       "    <tr>\n",
       "      <th>min</th>\n",
       "      <td>20.000000</td>\n",
       "      <td>30.000000</td>\n",
       "    </tr>\n",
       "    <tr>\n",
       "      <th>25%</th>\n",
       "      <td>55.000000</td>\n",
       "      <td>70.000000</td>\n",
       "    </tr>\n",
       "    <tr>\n",
       "      <th>50%</th>\n",
       "      <td>60.000000</td>\n",
       "      <td>80.000000</td>\n",
       "    </tr>\n",
       "    <tr>\n",
       "      <th>75%</th>\n",
       "      <td>70.000000</td>\n",
       "      <td>90.000000</td>\n",
       "    </tr>\n",
       "    <tr>\n",
       "      <th>max</th>\n",
       "      <td>90.000000</td>\n",
       "      <td>100.000000</td>\n",
       "    </tr>\n",
       "  </tbody>\n",
       "</table>\n",
       "</div>"
      ],
      "text/plain": [
       "       quantSkills  verbalSkills\n",
       "count   107.000000    107.000000\n",
       "mean     61.588785     80.093458\n",
       "std      12.896506     13.701351\n",
       "min      20.000000     30.000000\n",
       "25%      55.000000     70.000000\n",
       "50%      60.000000     80.000000\n",
       "75%      70.000000     90.000000\n",
       "max      90.000000    100.000000"
      ]
     },
     "execution_count": 13,
     "metadata": {},
     "output_type": "execute_result"
    }
   ],
   "source": [
    "newData.describe()"
   ]
  },
  {
   "cell_type": "code",
   "execution_count": 14,
   "id": "a3df1c81",
   "metadata": {},
   "outputs": [
    {
     "data": {
      "text/html": [
       "<div>\n",
       "<style scoped>\n",
       "    .dataframe tbody tr th:only-of-type {\n",
       "        vertical-align: middle;\n",
       "    }\n",
       "\n",
       "    .dataframe tbody tr th {\n",
       "        vertical-align: top;\n",
       "    }\n",
       "\n",
       "    .dataframe thead th {\n",
       "        text-align: right;\n",
       "    }\n",
       "</style>\n",
       "<table border=\"1\" class=\"dataframe\">\n",
       "  <thead>\n",
       "    <tr style=\"text-align: right;\">\n",
       "      <th></th>\n",
       "      <th>quantSkills</th>\n",
       "      <th>verbalSkills</th>\n",
       "    </tr>\n",
       "  </thead>\n",
       "  <tbody>\n",
       "    <tr>\n",
       "      <th>0</th>\n",
       "      <td>20</td>\n",
       "      <td>80</td>\n",
       "    </tr>\n",
       "    <tr>\n",
       "      <th>1</th>\n",
       "      <td>60</td>\n",
       "      <td>80</td>\n",
       "    </tr>\n",
       "    <tr>\n",
       "      <th>2</th>\n",
       "      <td>60</td>\n",
       "      <td>90</td>\n",
       "    </tr>\n",
       "    <tr>\n",
       "      <th>3</th>\n",
       "      <td>70</td>\n",
       "      <td>90</td>\n",
       "    </tr>\n",
       "    <tr>\n",
       "      <th>4</th>\n",
       "      <td>70</td>\n",
       "      <td>90</td>\n",
       "    </tr>\n",
       "  </tbody>\n",
       "</table>\n",
       "</div>"
      ],
      "text/plain": [
       "   quantSkills  verbalSkills\n",
       "0           20            80\n",
       "1           60            80\n",
       "2           60            90\n",
       "3           70            90\n",
       "4           70            90"
      ]
     },
     "execution_count": 14,
     "metadata": {},
     "output_type": "execute_result"
    }
   ],
   "source": [
    "newData.head()"
   ]
  },
  {
   "cell_type": "code",
   "execution_count": 15,
   "id": "0de2adf8",
   "metadata": {},
   "outputs": [
    {
     "data": {
      "text/html": [
       "<div>\n",
       "<style scoped>\n",
       "    .dataframe tbody tr th:only-of-type {\n",
       "        vertical-align: middle;\n",
       "    }\n",
       "\n",
       "    .dataframe tbody tr th {\n",
       "        vertical-align: top;\n",
       "    }\n",
       "\n",
       "    .dataframe thead th {\n",
       "        text-align: right;\n",
       "    }\n",
       "</style>\n",
       "<table border=\"1\" class=\"dataframe\">\n",
       "  <thead>\n",
       "    <tr style=\"text-align: right;\">\n",
       "      <th></th>\n",
       "      <th>quantSkills</th>\n",
       "      <th>verbalSkills</th>\n",
       "    </tr>\n",
       "  </thead>\n",
       "  <tbody>\n",
       "    <tr>\n",
       "      <th>102</th>\n",
       "      <td>40</td>\n",
       "      <td>40</td>\n",
       "    </tr>\n",
       "    <tr>\n",
       "      <th>103</th>\n",
       "      <td>70</td>\n",
       "      <td>70</td>\n",
       "    </tr>\n",
       "    <tr>\n",
       "      <th>104</th>\n",
       "      <td>60</td>\n",
       "      <td>80</td>\n",
       "    </tr>\n",
       "    <tr>\n",
       "      <th>105</th>\n",
       "      <td>50</td>\n",
       "      <td>100</td>\n",
       "    </tr>\n",
       "    <tr>\n",
       "      <th>106</th>\n",
       "      <td>60</td>\n",
       "      <td>70</td>\n",
       "    </tr>\n",
       "  </tbody>\n",
       "</table>\n",
       "</div>"
      ],
      "text/plain": [
       "     quantSkills  verbalSkills\n",
       "102           40            40\n",
       "103           70            70\n",
       "104           60            80\n",
       "105           50           100\n",
       "106           60            70"
      ]
     },
     "execution_count": 15,
     "metadata": {},
     "output_type": "execute_result"
    }
   ],
   "source": [
    "newData.tail()"
   ]
  },
  {
   "cell_type": "code",
   "execution_count": 16,
   "id": "4a1ba10c",
   "metadata": {},
   "outputs": [
    {
     "name": "stderr",
     "output_type": "stream",
     "text": [
      "C:\\Users\\dillo\\anaconda3\\Lib\\site-packages\\sklearn\\cluster\\_kmeans.py:870: FutureWarning: The default value of `n_init` will change from 10 to 'auto' in 1.4. Set the value of `n_init` explicitly to suppress the warning\n",
      "  warnings.warn(\n",
      "C:\\Users\\dillo\\anaconda3\\Lib\\site-packages\\sklearn\\cluster\\_kmeans.py:1382: UserWarning: KMeans is known to have a memory leak on Windows with MKL, when there are less chunks than available threads. You can avoid it by setting the environment variable OMP_NUM_THREADS=1.\n",
      "  warnings.warn(\n",
      "C:\\Users\\dillo\\anaconda3\\Lib\\site-packages\\sklearn\\cluster\\_kmeans.py:870: FutureWarning: The default value of `n_init` will change from 10 to 'auto' in 1.4. Set the value of `n_init` explicitly to suppress the warning\n",
      "  warnings.warn(\n",
      "C:\\Users\\dillo\\anaconda3\\Lib\\site-packages\\sklearn\\cluster\\_kmeans.py:1382: UserWarning: KMeans is known to have a memory leak on Windows with MKL, when there are less chunks than available threads. You can avoid it by setting the environment variable OMP_NUM_THREADS=1.\n",
      "  warnings.warn(\n"
     ]
    },
    {
     "name": "stdout",
     "output_type": "stream",
     "text": [
      "Centroids:\n",
      "[[48.92857143 80.35714286]\n",
      " [73.4375     86.25      ]\n",
      " [65.18518519 65.55555556]\n",
      " [58.82352941 97.64705882]\n",
      " [36.66666667 43.33333333]]\n"
     ]
    }
   ],
   "source": [
    "numClusters = 5\n",
    "kMeans = cluster.KMeans(n_clusters=numClusters, random_state=1000).fit(newData)\n",
    "labels = cluster.KMeans(n_clusters = numClusters).fit(newData).labels_\n",
    "centroids = kMeans.cluster_centers_\n",
    "print('Centroids:')\n",
    "print(centroids)"
   ]
  },
  {
   "cell_type": "code",
   "execution_count": 17,
   "id": "abb1e9b7",
   "metadata": {},
   "outputs": [
    {
     "name": "stdout",
     "output_type": "stream",
     "text": [
      "(array([0, 1, 2, 3, 4]), array([28, 32, 27, 17,  3], dtype=int64))\n"
     ]
    }
   ],
   "source": [
    "print(np.unique(kMeans.labels_, return_counts=True))"
   ]
  },
  {
   "cell_type": "code",
   "execution_count": 18,
   "id": "ccabb833",
   "metadata": {},
   "outputs": [
    {
     "data": {
      "text/html": [
       "<div>\n",
       "<style scoped>\n",
       "    .dataframe tbody tr th:only-of-type {\n",
       "        vertical-align: middle;\n",
       "    }\n",
       "\n",
       "    .dataframe tbody tr th {\n",
       "        vertical-align: top;\n",
       "    }\n",
       "\n",
       "    .dataframe thead th {\n",
       "        text-align: right;\n",
       "    }\n",
       "</style>\n",
       "<table border=\"1\" class=\"dataframe\">\n",
       "  <thead>\n",
       "    <tr style=\"text-align: right;\">\n",
       "      <th></th>\n",
       "      <th>Cluster</th>\n",
       "    </tr>\n",
       "  </thead>\n",
       "  <tbody>\n",
       "    <tr>\n",
       "      <th>0</th>\n",
       "      <td>0</td>\n",
       "    </tr>\n",
       "    <tr>\n",
       "      <th>1</th>\n",
       "      <td>0</td>\n",
       "    </tr>\n",
       "    <tr>\n",
       "      <th>2</th>\n",
       "      <td>3</td>\n",
       "    </tr>\n",
       "    <tr>\n",
       "      <th>3</th>\n",
       "      <td>1</td>\n",
       "    </tr>\n",
       "    <tr>\n",
       "      <th>4</th>\n",
       "      <td>1</td>\n",
       "    </tr>\n",
       "  </tbody>\n",
       "</table>\n",
       "</div>"
      ],
      "text/plain": [
       "   Cluster\n",
       "0        0\n",
       "1        0\n",
       "2        3\n",
       "3        1\n",
       "4        1"
      ]
     },
     "execution_count": 18,
     "metadata": {},
     "output_type": "execute_result"
    }
   ],
   "source": [
    "kMeansResults = pd.DataFrame(kMeans.labels_, columns=['Cluster'])\n",
    "kMeansResults.head()"
   ]
  },
  {
   "cell_type": "code",
   "execution_count": 19,
   "id": "9ded1068",
   "metadata": {},
   "outputs": [
    {
     "name": "stdout",
     "output_type": "stream",
     "text": [
      "                            Names  Cluster\n",
      "0                 Brittany Curtis        0\n",
      "1                    Hailey Burke        0\n",
      "2                      Lucie Lair        3\n",
      "3                     Luke Dibble        1\n",
      "4                  Cecilia Tacker        1\n",
      "5               Joseph Thryselius        2\n",
      "6                 Charlie Pearson        1\n",
      "7                    Shelby Smith        1\n",
      "8                    Gracie Fulks        3\n",
      "9                   Summer Holden        1\n",
      "10                   Jenelle Toms        1\n",
      "11                John-David Kemp        1\n",
      "12              Mackenzie Jefford        0\n",
      "13                  Joyia Griffin        3\n",
      "14                    Jacie Hill         0\n",
      "15                Ronnie Mursiano        3\n",
      "16                  Hannah Conder        2\n",
      "17                  Macie Coleman        2\n",
      "18              Brittany Martinez        3\n",
      "19                     Lexi Dugas        2\n",
      "20               Steffanie howard        2\n",
      "21                    Halle Smart        1\n",
      "22                  Sou Takahashi        2\n",
      "23                 Jackson Konert        1\n",
      "24            Vernal Gillespie Jr        0\n",
      "25                  Walter Morris        1\n",
      "26                  Clare Ratliff        0\n",
      "27                   Oran Pearson        1\n",
      "28                Brittany Curtis        0\n",
      "29                   Trevor Evans        2\n",
      "30          Mary Katherine Miller        3\n",
      "31                  Stewart Field        3\n",
      "32                  Jordan Ralph         0\n",
      "33                Brittany Thorne        1\n",
      "34                   Rachel Davis        3\n",
      "35                 James Williams        3\n",
      "36               Jade Littlefield        2\n",
      "37                Lorretta Taylor        2\n",
      "38                  Melanie Armas        3\n",
      "39                 Rebecca Flacke        0\n",
      "40                  Ethan Hassler        4\n",
      "41                     Lisa Huynh        1\n",
      "42                 Erica Hendrick        0\n",
      "43        Lauren Gottwald (Jones)        2\n",
      "44                    Morgan Nash        1\n",
      "45                   Alyssa Brown        2\n",
      "46                Heather Griffin        2\n",
      "47                 Ashley Aguirre        1\n",
      "48                  Kametia Wells        0\n",
      "49                     Eyan Hicks        1\n",
      "50                  Joyia Griffin        3\n",
      "51                  Breanna Cloyd        0\n",
      "52            Tamaki Mathis-Davis        1\n",
      "53                  Hannah Figley        1\n",
      "54                   Dulce Chavez        0\n",
      "55                    Ally Martin        0\n",
      "56                Brianna Patrick        0\n",
      "57                   Kailey Starr        0\n",
      "58              Brittany Barbetta        2\n",
      "59                 Kandice Bailey        4\n",
      "60         Shelby Joan DeJournett        1\n",
      "61            Phalycia McClelland        1\n",
      "62                 Kathryn Coones        1\n",
      "63               Gerson Velasquez        1\n",
      "64                 Dillon Bullard        1\n",
      "65                  Kassidy Yates        2\n",
      "66                   Paige Reeves        1\n",
      "67                Brittany Thorne        1\n",
      "68                   Will Sandvos        3\n",
      "69   Abdul Raheem Farooq Intekhab        3\n",
      "70               Cody Sutterfield        0\n",
      "71                 Brooklyn Wolfe        1\n",
      "72                  James Hoggard        3\n",
      "73              Charlotte Menager        2\n",
      "74                   Richard Bass        0\n",
      "75                     Anita Vang        1\n",
      "76               Stephanie Butler        3\n",
      "77                    Josie Jones        1\n",
      "78                  Dennis Holmes        0\n",
      "79                  Landen Pelton        2\n",
      "80                 Ashlyn Blevins        1\n",
      "81                  Crystal Houts        1\n",
      "82                  Ciera Harvey         2\n",
      "83           Tanya Banks Anthony         0\n",
      "84                    Emma Duncan        2\n",
      "85                        Thy Bui        2\n",
      "86                   Jamie Cooper        0\n",
      "87                  Spencer Downs        1\n",
      "88                   Coby Greiner        0\n",
      "89                   Mason Morrow        2\n",
      "90                 Caleb Thompson        3\n",
      "91                  Cinthia Islas        1\n",
      "92                 Mallory Goates        2\n",
      "93                     Faith King        2\n",
      "94                   Noah Everett        0\n",
      "95        Cassandra Darnell Clark        2\n",
      "96                 JoBeth Jackson        0\n",
      "97                Andrea Robinson        0\n",
      "98                     David Cook        2\n",
      "99                  Bethany Evans        0\n",
      "100                Stacy Chappell        2\n",
      "101                     Jack Owen        0\n",
      "102               Brooklyn Ramsey        4\n",
      "103               Abigail Sanchez        2\n",
      "104                   Jay Gregory        0\n",
      "105                 Robert Carter        3\n",
      "106                Stacy Chappell        2\n"
     ]
    }
   ],
   "source": [
    "lstDataNames = surveyData['Name']\n",
    "lstDataNames = lstDataNames.tolist()\n",
    "kMeansResults['Names'] = lstDataNames\n",
    "kMeansResults = kMeansResults[['Names','Cluster']]\n",
    "pd.set_option('display.max_rows', None)\n",
    "sortedResults = kMeansResults.sort_values(by=['Cluster', 'Names'])\n",
    "print(kMeansResults)"
   ]
  },
  {
   "cell_type": "code",
   "execution_count": 20,
   "id": "92f6cb38",
   "metadata": {},
   "outputs": [
    {
     "name": "stdout",
     "output_type": "stream",
     "text": [
      "                            Names  Cluster\n",
      "55                    Ally Martin        0\n",
      "97                Andrea Robinson        0\n",
      "99                  Bethany Evans        0\n",
      "51                  Breanna Cloyd        0\n",
      "56                Brianna Patrick        0\n",
      "0                 Brittany Curtis        0\n",
      "28                Brittany Curtis        0\n",
      "26                  Clare Ratliff        0\n",
      "88                   Coby Greiner        0\n",
      "70               Cody Sutterfield        0\n",
      "78                  Dennis Holmes        0\n",
      "54                   Dulce Chavez        0\n",
      "42                 Erica Hendrick        0\n",
      "1                    Hailey Burke        0\n",
      "14                    Jacie Hill         0\n",
      "101                     Jack Owen        0\n",
      "86                   Jamie Cooper        0\n",
      "104                   Jay Gregory        0\n",
      "96                 JoBeth Jackson        0\n",
      "32                  Jordan Ralph         0\n",
      "57                   Kailey Starr        0\n",
      "48                  Kametia Wells        0\n",
      "12              Mackenzie Jefford        0\n",
      "94                   Noah Everett        0\n",
      "39                 Rebecca Flacke        0\n",
      "74                   Richard Bass        0\n",
      "83           Tanya Banks Anthony         0\n",
      "24            Vernal Gillespie Jr        0\n",
      "75                     Anita Vang        1\n",
      "47                 Ashley Aguirre        1\n",
      "80                 Ashlyn Blevins        1\n",
      "33                Brittany Thorne        1\n",
      "67                Brittany Thorne        1\n",
      "71                 Brooklyn Wolfe        1\n",
      "4                  Cecilia Tacker        1\n",
      "6                 Charlie Pearson        1\n",
      "91                  Cinthia Islas        1\n",
      "81                  Crystal Houts        1\n",
      "64                 Dillon Bullard        1\n",
      "49                     Eyan Hicks        1\n",
      "63               Gerson Velasquez        1\n",
      "21                    Halle Smart        1\n",
      "53                  Hannah Figley        1\n",
      "23                 Jackson Konert        1\n",
      "10                   Jenelle Toms        1\n",
      "11                John-David Kemp        1\n",
      "77                    Josie Jones        1\n",
      "62                 Kathryn Coones        1\n",
      "41                     Lisa Huynh        1\n",
      "3                     Luke Dibble        1\n",
      "44                    Morgan Nash        1\n",
      "27                   Oran Pearson        1\n",
      "66                   Paige Reeves        1\n",
      "61            Phalycia McClelland        1\n",
      "60         Shelby Joan DeJournett        1\n",
      "7                    Shelby Smith        1\n",
      "87                  Spencer Downs        1\n",
      "9                   Summer Holden        1\n",
      "52            Tamaki Mathis-Davis        1\n",
      "25                  Walter Morris        1\n",
      "103               Abigail Sanchez        2\n",
      "45                   Alyssa Brown        2\n",
      "58              Brittany Barbetta        2\n",
      "95        Cassandra Darnell Clark        2\n",
      "73              Charlotte Menager        2\n",
      "82                  Ciera Harvey         2\n",
      "98                     David Cook        2\n",
      "84                    Emma Duncan        2\n",
      "93                     Faith King        2\n",
      "16                  Hannah Conder        2\n",
      "46                Heather Griffin        2\n",
      "36               Jade Littlefield        2\n",
      "5               Joseph Thryselius        2\n",
      "65                  Kassidy Yates        2\n",
      "79                  Landen Pelton        2\n",
      "43        Lauren Gottwald (Jones)        2\n",
      "19                     Lexi Dugas        2\n",
      "37                Lorretta Taylor        2\n",
      "17                  Macie Coleman        2\n",
      "92                 Mallory Goates        2\n",
      "89                   Mason Morrow        2\n",
      "22                  Sou Takahashi        2\n",
      "100                Stacy Chappell        2\n",
      "106                Stacy Chappell        2\n",
      "20               Steffanie howard        2\n",
      "85                        Thy Bui        2\n",
      "29                   Trevor Evans        2\n",
      "69   Abdul Raheem Farooq Intekhab        3\n",
      "18              Brittany Martinez        3\n",
      "90                 Caleb Thompson        3\n",
      "8                    Gracie Fulks        3\n",
      "72                  James Hoggard        3\n",
      "35                 James Williams        3\n",
      "13                  Joyia Griffin        3\n",
      "50                  Joyia Griffin        3\n",
      "2                      Lucie Lair        3\n",
      "30          Mary Katherine Miller        3\n",
      "38                  Melanie Armas        3\n",
      "34                   Rachel Davis        3\n",
      "105                 Robert Carter        3\n",
      "15                Ronnie Mursiano        3\n",
      "76               Stephanie Butler        3\n",
      "31                  Stewart Field        3\n",
      "68                   Will Sandvos        3\n",
      "102               Brooklyn Ramsey        4\n",
      "40                  Ethan Hassler        4\n",
      "59                 Kandice Bailey        4\n"
     ]
    }
   ],
   "source": [
    "print(sortedResults)"
   ]
  },
  {
   "cell_type": "code",
   "execution_count": 21,
   "id": "1d86bdf0",
   "metadata": {},
   "outputs": [
    {
     "data": {
      "text/plain": [
       "<matplotlib.collections.PathCollection at 0x1aea52e0ad0>"
      ]
     },
     "execution_count": 21,
     "metadata": {},
     "output_type": "execute_result"
    },
    {
     "data": {
      "image/png": "[encoded data removed]",
      "text/plain": [
       "<Figure size 640x480 with 1 Axes>"
      ]
     },
     "metadata": {},
     "output_type": "display_data"
    }
   ],
   "source": [
    "plt.grid(visible=None, which='major', axis='both')\n",
    "plt.scatter(newData['quantSkills'], newData['verbalSkills'], c= kMeans.labels_.astype(float), s=50, alpha=0.50)\n",
    "plt.scatter(centroids[:, 0], centroids[:, 1], c=\"yellow\", s=50)"
   ]
  },
  {
   "cell_type": "code",
   "execution_count": null,
   "id": "24dc20d4",
   "metadata": {},
   "outputs": [],
   "source": []
  }
 ],
 "metadata": {
  "kernelspec": {
   "display_name": "Python 3 (ipykernel)",
   "language": "python",
   "name": "python3"
  },
  "language_info": {
   "codemirror_mode": {
    "name": "ipython",
    "version": 3
   },
   "file_extension": ".py",
   "mimetype": "text/x-python",
   "name": "python",
   "nbconvert_exporter": "python",
   "pygments_lexer": "ipython3",
   "version": "3.11.7"
  }
 },
 "nbformat": 4,
 "nbformat_minor": 5
}
