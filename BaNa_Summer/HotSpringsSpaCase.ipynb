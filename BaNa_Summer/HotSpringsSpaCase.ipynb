{
 "cells": [
  {
   "cell_type": "code",
   "execution_count": 12,
   "id": "3449826e",
   "metadata": {},
   "outputs": [],
   "source": [
    "import pulp as p"
   ]
  },
  {
   "cell_type": "code",
   "execution_count": 13,
   "id": "d854f919",
   "metadata": {},
   "outputs": [],
   "source": [
    "lpProb = p.LpProblem('HotSpringsSpaCase', p.LpMaximize)\n",
    "S = p.LpVariable(\"S\", lowBound = 0)\n",
    "C = p.LpVariable(\"C\", lowBound = 0)\n",
    "D = p.LpVariable(\"D\", lowBound = 0)\n",
    "lpProb += 400 * S + 345 * C + 600 * D\n",
    "lpProb += p.LpConstraint(15.5*S + 10.5*C + 12*D, sense=p.LpConstraintLE, rhs = 2650, name='Labor')\n",
    "lpProb += p.LpConstraint(14.5*S + 20*C + 22*D, sense=p.LpConstraintLE, rhs = 3007, name='Piping')\n",
    "lpProb += p.LpConstraint(1*S + 1*C + 2*D, sense=p.LpConstraintLE, rhs = 231, name='Pump')"
   ]
  },
  {
   "cell_type": "code",
   "execution_count": 16,
   "id": "c4b26d4c",
   "metadata": {},
   "outputs": [
    {
     "name": "stdout",
     "output_type": "stream",
     "text": [
      "Status: Optimal\n",
      "Optimal Solution:\n"
     ]
    }
   ],
   "source": [
    "print(\"Status:\", p.LpStatus[status])\n",
    "print(\"Optimal Solution:\")"
   ]
  },
  {
   "cell_type": "code",
   "execution_count": 18,
   "id": "753cc2e6",
   "metadata": {},
   "outputs": [
    {
     "name": "stdout",
     "output_type": "stream",
     "text": [
      "133.05263 0.0 48.973684 82605.26239999999\n"
     ]
    }
   ],
   "source": [
    "print(p.value(S), p.value(C), p.value(D), p.value(lpProb.objective))"
   ]
  },
  {
   "cell_type": "code",
   "execution_count": 19,
   "id": "407f1698",
   "metadata": {},
   "outputs": [
    {
     "name": "stdout",
     "output_type": "stream",
     "text": [
      "Labor: slack = -0.00, shadow price = 10.53\n",
      "Piping: slack = 0.32, shadow price = -0.00\n",
      "Pump: slack = -0.00, shadow price = 236.84\n",
      "C \t 0.0 \t -2.3684211\n",
      "D \t 48.973684 \t -0.0\n",
      "S \t 133.05263 \t -0.0\n",
      "Labor t -0.0 \t 10.526316\n",
      "Piping t 0.31579999999985375 \t -0.0\n",
      "Pump t -0.0 \t 236.84211\n"
     ]
    }
   ],
   "source": [
    "for name, c in lpProb.constraints.items():\n",
    "    print(f'{name}: slack = {c.slack:.2f}, shadow price = {c.pi:.2f}')\n",
    "for v in lpProb.variables():\n",
    "    print(v.name,'\\t',v.varValue,\"\\t\",v.dj)\n",
    "for name, c in lpProb.constraints.items():\n",
    "    print(name,'t',c.slack,'\\t',c.pi)"
   ]
  },
  {
   "cell_type": "code",
   "execution_count": null,
   "id": "5568afb3",
   "metadata": {},
   "outputs": [],
   "source": []
  }
 ],
 "metadata": {
  "kernelspec": {
   "display_name": "Python 3 (ipykernel)",
   "language": "python",
   "name": "python3"
  },
  "language_info": {
   "codemirror_mode": {
    "name": "ipython",
    "version": 3
   },
   "file_extension": ".py",
   "mimetype": "text/x-python",
   "name": "python",
   "nbconvert_exporter": "python",
   "pygments_lexer": "ipython3",
   "version": "3.11.7"
  }
 },
 "nbformat": 4,
 "nbformat_minor": 5
}
# The Pulp model's results generally agree rather well with the expected conclusions based on the given data and restrictions. The sensitivity and feasibility of the solution are revealed by the slack values (how much the constraints are underutilized) and shadow prices (dual values indicating sensitivity of the objective function to changes in constraint limits). PuLP is shown to be an accurate and efficient method for solving linear programming problems since the best solution maximizes profit while respecting the labor, piping, and pump restrictions. Validity and dependability of the optimization results are guaranteed by comparison with Excel or JN. 

